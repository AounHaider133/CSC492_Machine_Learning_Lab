{
 "cells": [
  {
   "cell_type": "code",
   "execution_count": 13,
   "id": "ccc40ff0-7fc0-4b58-9f77-e87f3ee9fe5c",
   "metadata": {},
   "outputs": [],
   "source": [
    "import pandas as pd\n",
    "import numpy as np\n",
    "from sklearn.datasets import load_diabetes"
   ]
  },
  {
   "cell_type": "code",
   "execution_count": 14,
   "id": "6da48ef0-bade-4cca-bdef-4b80e5ee8a0f",
   "metadata": {},
   "outputs": [],
   "source": [
    "df = load_diabetes()"
   ]
  },
  {
   "cell_type": "code",
   "execution_count": 19,
   "id": "4872a92e-5477-4d2b-b369-ab609aeb0e27",
   "metadata": {},
   "outputs": [],
   "source": [
    "X = df.data\n",
    "y = df.target"
   ]
  },
  {
   "cell_type": "code",
   "execution_count": 24,
   "id": "44bac657-71f4-48e2-941a-41dfd8e06f7a",
   "metadata": {},
   "outputs": [],
   "source": [
    "from sklearn.linear_model import LinearRegression\n",
    "from sklearn.tree import DecisionTreeRegressor\n",
    "from sklearn.svm import SVR\n",
    "from sklearn.model_selection import cross_val_score"
   ]
  },
  {
   "cell_type": "code",
   "execution_count": 27,
   "id": "1dac1b72-0eed-4533-b399-b7a1d6a4b3ef",
   "metadata": {},
   "outputs": [],
   "source": [
    "lr = LinearRegression()\n",
    "dt = DecisionTreeRegressor()\n",
    "svm = SVR()"
   ]
  },
  {
   "cell_type": "code",
   "execution_count": 29,
   "id": "8a3b1713-c0c6-4e07-a861-64cc19d3c661",
   "metadata": {},
   "outputs": [],
   "source": [
    "estimators = [('lr',lr),('dt',dt),('svm',svm)]"
   ]
  },
  {
   "cell_type": "code",
   "execution_count": 36,
   "id": "3630a8ef-798e-4c70-b550-bc1cf2ac4f8f",
   "metadata": {},
   "outputs": [
    {
     "name": "stdout",
     "output_type": "stream",
     "text": [
      "lr 0.46\n",
      "dt -0.28\n",
      "svm 0.15\n"
     ]
    }
   ],
   "source": [
    "for estimator in estimators:\n",
    "    x = cross_val_score(estimator[1],X,y,scoring = 'r2',cv = 10)\n",
    "    print(estimator[0],np.round(np.mean(x),2))\n"
   ]
  },
  {
   "cell_type": "code",
   "execution_count": 48,
   "id": "4dbb6112-0a03-499a-80ad-53ceb2903e3e",
   "metadata": {},
   "outputs": [
    {
     "name": "stdout",
     "output_type": "stream",
     "text": [
      "Voting Regressor: 0.35\n"
     ]
    }
   ],
   "source": [
    "from sklearn.ensemble import VotingRegressor\n",
    "\n",
    "vr = VotingRegressor(estimators)\n",
    "score = cross_val_score(vr,X,y,scoring = 'r2',cv = 10)\n",
    "print('Voting Regressor:',np.round(np.mean(score),2))\n"
   ]
  },
  {
   "cell_type": "code",
   "execution_count": 52,
   "id": "c54b5e47-eadb-413c-a730-a73f5efc25ca",
   "metadata": {},
   "outputs": [
    {
     "name": "stdout",
     "output_type": "stream",
     "text": [
      "For i=1,j=1,k=1 0.34\n",
      "For i=1,j=1,k=2 0.34\n",
      "For i=1,j=1,k=3 0.32\n",
      "For i=1,j=2,k=1 0.26\n",
      "For i=1,j=2,k=2 0.28\n",
      "For i=1,j=2,k=3 0.3\n",
      "For i=1,j=3,k=1 0.17\n",
      "For i=1,j=3,k=2 0.25\n",
      "For i=1,j=3,k=3 0.27\n",
      "For i=2,j=1,k=1 0.4\n",
      "For i=2,j=1,k=2 0.39\n",
      "For i=2,j=1,k=3 0.37\n",
      "For i=2,j=2,k=1 0.33\n",
      "For i=2,j=2,k=2 0.33\n",
      "For i=2,j=2,k=3 0.35\n",
      "For i=2,j=3,k=1 0.25\n",
      "For i=2,j=3,k=2 0.31\n",
      "For i=2,j=3,k=3 0.31\n",
      "For i=3,j=1,k=1 0.42\n",
      "For i=3,j=1,k=2 0.41\n",
      "For i=3,j=1,k=3 0.39\n",
      "For i=3,j=2,k=1 0.37\n",
      "For i=3,j=2,k=2 0.39\n",
      "For i=3,j=2,k=3 0.38\n",
      "For i=3,j=3,k=1 0.31\n",
      "For i=3,j=3,k=2 0.34\n",
      "For i=3,j=3,k=3 0.34\n"
     ]
    }
   ],
   "source": [
    "for i in range(1,4):\n",
    "  for j in range(1,4):\n",
    "    for k in range(1,4):\n",
    "      vr = VotingRegressor(estimators,weights=[i,j,k])\n",
    "      scores = cross_val_score(vr,X,y,scoring='r2',cv=10)\n",
    "      print(\"For i={},j={},k={}\".format(i,j,k),np.round(np.mean(scores),2))"
   ]
  },
  {
   "cell_type": "code",
   "execution_count": 56,
   "id": "4a86b450-a6ef-4136-ab4b-634c68c50229",
   "metadata": {},
   "outputs": [],
   "source": [
    "#Using same algorithm for estimation\n",
    "dt1 = DecisionTreeRegressor(max_depth = 1)\n",
    "dt2 = DecisionTreeRegressor(max_depth = 3)\n",
    "dt3 = DecisionTreeRegressor(max_depth = 4)\n",
    "dt4 = DecisionTreeRegressor(max_depth = 7)\n",
    "dt5 = DecisionTreeRegressor(max_depth = None)"
   ]
  },
  {
   "cell_type": "code",
   "execution_count": 58,
   "id": "69e1d9a7-437b-4c83-a18b-e53af1bc811c",
   "metadata": {},
   "outputs": [],
   "source": [
    "estimators = [('dt1',dt1),('dt2',dt2),('dt3',dt3),('dt4',dt4),('dt5',dt5)]"
   ]
  },
  {
   "cell_type": "code",
   "execution_count": 60,
   "id": "eaef0784-6624-4b44-9445-f2fb49086627",
   "metadata": {},
   "outputs": [
    {
     "name": "stdout",
     "output_type": "stream",
     "text": [
      "dt1 0.15\n",
      "dt2 0.29\n",
      "dt3 0.29\n",
      "dt4 -0.07\n",
      "dt5 -0.17\n"
     ]
    }
   ],
   "source": [
    "for estimator in estimators:\n",
    "    x = cross_val_score(estimator[1],X,y,scoring = 'r2',cv = 10)\n",
    "    print(estimator[0],np.round(np.mean(x),2))"
   ]
  },
  {
   "cell_type": "code",
   "execution_count": 66,
   "id": "6da65b61-1c73-442a-a426-3c99cc202dd2",
   "metadata": {},
   "outputs": [
    {
     "name": "stdout",
     "output_type": "stream",
     "text": [
      "Voting Regressor 0.24\n"
     ]
    }
   ],
   "source": [
    "vr = VotingRegressor(estimators)\n",
    "scores = cross_val_score(vr,X,y,scoring='r2',cv=10)\n",
    "print(\"Voting Regressor\",np.round(np.mean(scores),2))"
   ]
  }
 ],
 "metadata": {
  "kernelspec": {
   "display_name": "Python 3 (ipykernel)",
   "language": "python",
   "name": "python3"
  },
  "language_info": {
   "codemirror_mode": {
    "name": "ipython",
    "version": 3
   },
   "file_extension": ".py",
   "mimetype": "text/x-python",
   "name": "python",
   "nbconvert_exporter": "python",
   "pygments_lexer": "ipython3",
   "version": "3.11.4"
  }
 },
 "nbformat": 4,
 "nbformat_minor": 5
}
